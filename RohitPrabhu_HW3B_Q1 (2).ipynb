{
 "cells": [
  {
   "cell_type": "code",
   "execution_count": 1,
   "id": "07276323-3813-495f-846b-adb0382ef6e2",
   "metadata": {},
   "outputs": [
    {
     "name": "stderr",
     "output_type": "stream",
     "text": [
      "None of PyTorch, TensorFlow >= 2.0, or Flax have been found. Models won't be available and only tokenizers, configuration and file/data utilities can be used.\n"
     ]
    }
   ],
   "source": [
    "from transformers import BertTokenizerFast\n",
    "import pandas as pd\n",
    "from nltk.corpus import words\n",
    "import nltk\n",
    "from transformers import BertTokenizer\n",
    "from nltk.corpus import words, wordnet"
   ]
  },
  {
   "cell_type": "code",
   "execution_count": 2,
   "id": "29eec272-b557-4246-b4fa-f2bcc11ee185",
   "metadata": {},
   "outputs": [
    {
     "name": "stderr",
     "output_type": "stream",
     "text": [
      "[nltk_data] Downloading package words to\n",
      "[nltk_data]     C:\\Users\\mrohi\\AppData\\Roaming\\nltk_data...\n",
      "[nltk_data]   Package words is already up-to-date!\n"
     ]
    },
    {
     "data": {
      "text/plain": [
       "True"
      ]
     },
     "execution_count": 2,
     "metadata": {},
     "output_type": "execute_result"
    }
   ],
   "source": [
    "nltk.download('words')"
   ]
  },
  {
   "cell_type": "code",
   "execution_count": 3,
   "id": "92a762c5-94d7-4847-a89a-914d1366a4ca",
   "metadata": {},
   "outputs": [
    {
     "name": "stdout",
     "output_type": "stream",
     "text": [
      "Total Missing Words: 0\n"
     ]
    }
   ],
   "source": [
    "# Load English words from NLTK\n",
    "nltk_words = set(words.words())\n",
    "\n",
    "# Extract additional words from WordNet\n",
    "wordnet_words = set(lemma.name().replace('_', ' ') for synset in wordnet.all_synsets() for lemma in synset.lemmas())\n",
    "\n",
    "# Combine both word sets\n",
    "english_vocab = nltk_words.union(wordnet_words)\n",
    "\n",
    "# Load BERT tokenizer\n",
    "tokenizer = BertTokenizerFast.from_pretrained(\"bert-base-uncased\", do_lower_case=True)\n",
    "\n",
    "# Identify missing words\n",
    "missing_words = [word for word in english_vocab if tokenizer.tokenize(word) == ['[UNK]']]\n",
    "\n",
    "print(f\"Total Missing Words: {len(missing_words)}\")\n"
   ]
  },
  {
   "cell_type": "code",
   "execution_count": 4,
   "id": "0dc49137-0984-440a-9d79-f4ba75245cd9",
   "metadata": {},
   "outputs": [],
   "source": [
    "df = pd.read_csv(\"subsetOfDataSoftware.csv\")"
   ]
  },
  {
   "cell_type": "code",
   "execution_count": 5,
   "id": "ec521e6f-0034-4192-84c5-41edc84261f1",
   "metadata": {},
   "outputs": [],
   "source": [
    "def combine_subwords(tokens):\n",
    "    \"\"\"\n",
    "    Combines subword tokens marked with '##' into complete words.\n",
    "    \n",
    "    Args:\n",
    "    tokens (list): List of tokenized words from a tokenizer.\n",
    "\n",
    "    Returns:\n",
    "    list: List of cleaned words without subword fragmentation.\n",
    "    \"\"\"\n",
    "    combined_tokens = []\n",
    "    current_word = \"\"\n",
    "\n",
    "    for token in tokens:\n",
    "        if token.startswith(\"##\"):\n",
    "            # Append to the previous word (removing the '##')\n",
    "            current_word += token[2:]\n",
    "        else:\n",
    "            # Add the previous complete word to the list if it exists\n",
    "            if current_word:\n",
    "                combined_tokens.append(current_word)\n",
    "            # Start a new word\n",
    "            current_word = token\n",
    "        \n",
    "    # Append the last word\n",
    "    if current_word:\n",
    "        combined_tokens.append(current_word)\n",
    "\n",
    "    return combined_tokens"
   ]
  },
  {
   "cell_type": "code",
   "execution_count": 6,
   "id": "d74da249-2a04-4972-afa5-00efbefa8a19",
   "metadata": {},
   "outputs": [],
   "source": [
    "tokenized_text = []"
   ]
  },
  {
   "cell_type": "code",
   "execution_count": 7,
   "id": "8100501a-f637-4502-b90b-eaa7b15425c2",
   "metadata": {},
   "outputs": [
    {
     "name": "stderr",
     "output_type": "stream",
     "text": [
      "Token indices sequence length is longer than the specified maximum sequence length for this model (812 > 512). Running this sequence through the model will result in indexing errors\n"
     ]
    }
   ],
   "source": [
    "for d in df['description'].values:\n",
    "    combined_txt = combine_subwords(tokenizer.tokenize(d))\n",
    "    tokenized_text.append(combined_txt)"
   ]
  },
  {
   "cell_type": "code",
   "execution_count": 8,
   "id": "b7204edd-0fed-40cf-88cb-b757f3ff8308",
   "metadata": {},
   "outputs": [
    {
     "data": {
      "text/plain": [
       "['education',\n",
       " 'bachelor',\n",
       " \"'\",\n",
       " 's',\n",
       " 'degree',\n",
       " 'in',\n",
       " 'software',\n",
       " ',',\n",
       " 'math',\n",
       " ',',\n",
       " 'or',\n",
       " 'science',\n",
       " 'required',\n",
       " 'job',\n",
       " 'skills',\n",
       " 'analytical',\n",
       " 'skills',\n",
       " ',',\n",
       " 'group',\n",
       " 'work',\n",
       " ',',\n",
       " 'knowledge',\n",
       " 'of',\n",
       " 'intended',\n",
       " 'audience',\n",
       " ',',\n",
       " 'understanding',\n",
       " 'of',\n",
       " 'different',\n",
       " 'roles']"
      ]
     },
     "execution_count": 8,
     "metadata": {},
     "output_type": "execute_result"
    }
   ],
   "source": [
    "tokenized_text[0]"
   ]
  },
  {
   "cell_type": "code",
   "execution_count": 9,
   "id": "3c2246fa-0a5a-4ac8-9618-e4160cc42867",
   "metadata": {},
   "outputs": [
    {
     "data": {
      "text/plain": [
       "['are',\n",
       " 'you',\n",
       " 'driven',\n",
       " 'by',\n",
       " 'the',\n",
       " 'thrill',\n",
       " 'of',\n",
       " 'solving',\n",
       " 'problems',\n",
       " 'and',\n",
       " 'offering',\n",
       " 'unparalleled',\n",
       " 'support',\n",
       " '?',\n",
       " 'do',\n",
       " 'you',\n",
       " 'thrive',\n",
       " 'in',\n",
       " 'environments',\n",
       " 'that',\n",
       " 'challenge',\n",
       " 'you',\n",
       " 'and',\n",
       " 'push',\n",
       " 'you',\n",
       " 'to',\n",
       " 'grow',\n",
       " '?',\n",
       " 'my',\n",
       " 'client',\n",
       " 'is',\n",
       " 'at',\n",
       " 'the',\n",
       " 'forefront',\n",
       " 'of',\n",
       " 'spectrum',\n",
       " 'engineering',\n",
       " 'and',\n",
       " 'management',\n",
       " ',',\n",
       " 'and',\n",
       " 'are',\n",
       " 'on',\n",
       " 'the',\n",
       " 'lookout',\n",
       " 'for',\n",
       " 'a',\n",
       " 'dynamic',\n",
       " 'software',\n",
       " 'support',\n",
       " 'specialist',\n",
       " 'to',\n",
       " 'join',\n",
       " 'their',\n",
       " 'team',\n",
       " '.',\n",
       " 'if',\n",
       " 'you',\n",
       " 'are',\n",
       " 'goal',\n",
       " '-',\n",
       " 'oriented',\n",
       " ',',\n",
       " 'crave',\n",
       " 'new',\n",
       " 'experiences',\n",
       " ',',\n",
       " 'and',\n",
       " 'are',\n",
       " 'ready',\n",
       " 'to',\n",
       " 'make',\n",
       " 'a',\n",
       " 'tangible',\n",
       " 'impact',\n",
       " ',',\n",
       " 'i',\n",
       " \"'\",\n",
       " 'd',\n",
       " 'love',\n",
       " 'to',\n",
       " 'speak',\n",
       " 'with',\n",
       " 'you',\n",
       " '.',\n",
       " 'duties',\n",
       " 'include',\n",
       " ',',\n",
       " 'but',\n",
       " 'are',\n",
       " 'not',\n",
       " 'limited',\n",
       " 'to',\n",
       " ':',\n",
       " 'responsibilities',\n",
       " ':',\n",
       " 'assist',\n",
       " 'users',\n",
       " 'in',\n",
       " 'designing',\n",
       " 'and',\n",
       " 'optimizing',\n",
       " 'their',\n",
       " 'wireless',\n",
       " 'networks',\n",
       " '.',\n",
       " 'support',\n",
       " 'web',\n",
       " 'application',\n",
       " 'users',\n",
       " 'by',\n",
       " 'identifying',\n",
       " 'issues',\n",
       " 'and',\n",
       " 'testing',\n",
       " 'updates',\n",
       " 'and',\n",
       " 'fixes',\n",
       " '.',\n",
       " 'conduct',\n",
       " 'online',\n",
       " 'support',\n",
       " 'sessions',\n",
       " '.',\n",
       " 'support',\n",
       " 'request',\n",
       " 'for',\n",
       " 'information',\n",
       " '(',\n",
       " 'rfi',\n",
       " ')',\n",
       " '/',\n",
       " 'request',\n",
       " 'for',\n",
       " 'proposal',\n",
       " '(',\n",
       " 'rfp',\n",
       " ')',\n",
       " 'efforts',\n",
       " '.',\n",
       " 'assist',\n",
       " 'in',\n",
       " 'sales',\n",
       " 'initiatives',\n",
       " 'and',\n",
       " 'business',\n",
       " 'development',\n",
       " 'efforts',\n",
       " '.',\n",
       " 'required',\n",
       " 'skills',\n",
       " ':',\n",
       " 'excellent',\n",
       " 'computer',\n",
       " 'skills',\n",
       " '.',\n",
       " 'strong',\n",
       " 'verbal',\n",
       " 'and',\n",
       " 'written',\n",
       " 'communication',\n",
       " 'skills',\n",
       " '.',\n",
       " 'bachelor',\n",
       " '’',\n",
       " 's',\n",
       " 'degree',\n",
       " 'in',\n",
       " 'science',\n",
       " 'or',\n",
       " 'engineering',\n",
       " 'preferred',\n",
       " '.',\n",
       " 'experience',\n",
       " 'of',\n",
       " 'working',\n",
       " 'in',\n",
       " 'a',\n",
       " 'help',\n",
       " 'desk',\n",
       " 'environment',\n",
       " '.',\n",
       " 'ability',\n",
       " 'to',\n",
       " 'work',\n",
       " 'autonomously',\n",
       " '.',\n",
       " 'experience',\n",
       " 'with',\n",
       " 'php',\n",
       " ',',\n",
       " 'javascript',\n",
       " ',',\n",
       " 'and',\n",
       " 'web',\n",
       " 'development',\n",
       " 'programming',\n",
       " 'is',\n",
       " 'desirable',\n",
       " '.',\n",
       " 'spanish',\n",
       " '/',\n",
       " 'portuguese',\n",
       " 'language',\n",
       " 'skills',\n",
       " 'are',\n",
       " 'a',\n",
       " 'plus',\n",
       " '.',\n",
       " 'if',\n",
       " 'you',\n",
       " 'have',\n",
       " 'a',\n",
       " 'year',\n",
       " 'or',\n",
       " 'two',\n",
       " \"'\",\n",
       " 's',\n",
       " 'experience',\n",
       " 'in',\n",
       " 'a',\n",
       " 'support',\n",
       " 'role',\n",
       " ',',\n",
       " 'or',\n",
       " 'are',\n",
       " 'a',\n",
       " 'recent',\n",
       " 'graduate',\n",
       " ',',\n",
       " 'get',\n",
       " 'in',\n",
       " 'touch',\n",
       " '!']"
      ]
     },
     "execution_count": 9,
     "metadata": {},
     "output_type": "execute_result"
    }
   ],
   "source": [
    "tokenized_text[2]"
   ]
  },
  {
   "cell_type": "code",
   "execution_count": 13,
   "id": "08528a85-6c23-4fa9-a5ef-45ea8b6320d8",
   "metadata": {},
   "outputs": [],
   "source": [
    "text = \"Request: Data ArchitectLocation: San Francisco, CA HybridDuration: Contract Job description:AWS services like EC2, S3, Lambda, Glue, athena, Kinesis datastreams, Kinesis Firehose, etcETL & Data Warehousing concepts with hands-on experience SQL, Redshift, Python , SPARK and JSONAPI-based integration and security Cloud computing and Big data concepts Thanks,sunil.k@saxonglobal.com\""
   ]
  },
  {
   "cell_type": "code",
   "execution_count": 14,
   "id": "e3ec9a85-f939-41df-86c1-9df9570428f4",
   "metadata": {},
   "outputs": [
    {
     "name": "stdout",
     "output_type": "stream",
     "text": [
      "['request', ':', 'data', 'architectlocation', ':', 'san', 'francisco', ',', 'ca', 'hybridduration', ':', 'contract', 'job', 'description', ':', 'aws', 'services', 'like', 'ec2', ',', 's3', ',', 'lambda', ',', 'glue', ',', 'athena', ',', 'kinesis', 'datastreams', ',', 'kinesis', 'firehose', ',', 'etcetl', '&', 'data', 'warehousing', 'concepts', 'with', 'hands', '-', 'on', 'experience', 'sql', ',', 'redshift', ',', 'python', ',', 'spark', 'and', 'jsonapi', '-', 'based', 'integration', 'and', 'security', 'cloud', 'computing', 'and', 'big', 'data', 'concepts', 'thanks', ',', 'sunil', '.', 'k', '@', 'saxonglobal', '.', 'com']\n"
     ]
    }
   ],
   "source": [
    "combined_txt = combine_subwords(tokenizer.tokenize(text))\n",
    "print(combined_txt)"
   ]
  },
  {
   "cell_type": "code",
   "execution_count": 15,
   "id": "a6e04413-4e77-45f1-aa62-0deeaf41c358",
   "metadata": {},
   "outputs": [],
   "source": [
    "text2=r'''Job Description:GOYT is seeking a skilled and motivated Remote Software Developer specializing in PHP to join our dynamic team. As a key member of our development team, you will play a crucial role in iterating and enhancing our product to drive the growth of our company.\n",
    "This is an equity-based role. \n",
    "Responsibilities:Develop and maintain high-quality PHP code for our web-based application.Collaborate with the development team to design and implement new features and enhancements.Troubleshoot and debug issues to ensure optimal performance and reliability.Contribute to the technical roadmap and decision-making process to support the company's growth objectives.Stay updated on industry trends and best practices to continuously improve our product.\n",
    "Requirements:Expertise in PHP development with a strong understanding of object-oriented programming principles.Experience with e-commerce platforms or projects is preferred.Proficiency in front-end technologies such as HTML, CSS, and JavaScript.Familiarity with MySQL or other relational databases.Ability to work independently and as part of a remote team.Excellent communication and collaboration skills.Passion for learning and staying updated on emerging technologies.\n",
    "Benefits:Opportunity to join a fast-growing startup and contribute to its success.Equity-based compensation package.Flexible remote work arrangement.Collaborative and supportive work environment.Potential for professional growth and advancement within the company.\n",
    "If you are a talented PHP developer with a passion for innovation and growth, we want to hear from you! Please submit your resume and portfolio showcasing your relevant experience to: business@goyt.com'''"
   ]
  },
  {
   "cell_type": "code",
   "execution_count": 16,
   "id": "b6f92e8e-47bc-4263-bad1-f8477b196c1a",
   "metadata": {},
   "outputs": [
    {
     "name": "stdout",
     "output_type": "stream",
     "text": [
      "['job', 'description', ':', 'goyt', 'is', 'seeking', 'a', 'skilled', 'and', 'motivated', 'remote', 'software', 'developer', 'specializing', 'in', 'php', 'to', 'join', 'our', 'dynamic', 'team', '.', 'as', 'a', 'key', 'member', 'of', 'our', 'development', 'team', ',', 'you', 'will', 'play', 'a', 'crucial', 'role', 'in', 'iterating', 'and', 'enhancing', 'our', 'product', 'to', 'drive', 'the', 'growth', 'of', 'our', 'company', '.', 'this', 'is', 'an', 'equity', '-', 'based', 'role', '.', 'responsibilities', ':', 'develop', 'and', 'maintain', 'high', '-', 'quality', 'php', 'code', 'for', 'our', 'web', '-', 'based', 'application', '.', 'collaborate', 'with', 'the', 'development', 'team', 'to', 'design', 'and', 'implement', 'new', 'features', 'and', 'enhancements', '.', 'troubleshoot', 'and', 'debug', 'issues', 'to', 'ensure', 'optimal', 'performance', 'and', 'reliability', '.', 'contribute', 'to', 'the', 'technical', 'roadmap', 'and', 'decision', '-', 'making', 'process', 'to', 'support', 'the', 'company', \"'\", 's', 'growth', 'objectives', '.', 'stay', 'updated', 'on', 'industry', 'trends', 'and', 'best', 'practices', 'to', 'continuously', 'improve', 'our', 'product', '.', 'requirements', ':', 'expertise', 'in', 'php', 'development', 'with', 'a', 'strong', 'understanding', 'of', 'object', '-', 'oriented', 'programming', 'principles', '.', 'experience', 'with', 'e', '-', 'commerce', 'platforms', 'or', 'projects', 'is', 'preferred', '.', 'proficiency', 'in', 'front', '-', 'end', 'technologies', 'such', 'as', 'html', ',', 'css', ',', 'and', 'javascript', '.', 'familiarity', 'with', 'mysql', 'or', 'other', 'relational', 'databases', '.', 'ability', 'to', 'work', 'independently', 'and', 'as', 'part', 'of', 'a', 'remote', 'team', '.', 'excellent', 'communication', 'and', 'collaboration', 'skills', '.', 'passion', 'for', 'learning', 'and', 'staying', 'updated', 'on', 'emerging', 'technologies', '.', 'benefits', ':', 'opportunity', 'to', 'join', 'a', 'fast', '-', 'growing', 'startup', 'and', 'contribute', 'to', 'its', 'success', '.', 'equity', '-', 'based', 'compensation', 'package', '.', 'flexible', 'remote', 'work', 'arrangement', '.', 'collaborative', 'and', 'supportive', 'work', 'environment', '.', 'potential', 'for', 'professional', 'growth', 'and', 'advancement', 'within', 'the', 'company', '.', 'if', 'you', 'are', 'a', 'talented', 'php', 'developer', 'with', 'a', 'passion', 'for', 'innovation', 'and', 'growth', ',', 'we', 'want', 'to', 'hear', 'from', 'you', '!', 'please', 'submit', 'your', 'resume', 'and', 'portfolio', 'showcasing', 'your', 'relevant', 'experience', 'to', ':', 'business', '@', 'goyt', '.', 'com']\n"
     ]
    }
   ],
   "source": [
    "combined_txt = combine_subwords(tokenizer.tokenize(text2))\n",
    "print(combined_txt)"
   ]
  },
  {
   "cell_type": "code",
   "execution_count": 21,
   "id": "0e3f0f92-c495-4432-bbcd-038e3ac622b5",
   "metadata": {},
   "outputs": [],
   "source": [
    "df2json = pd.read_csv(\"manualLabeling.csv\")"
   ]
  },
  {
   "cell_type": "code",
   "execution_count": 24,
   "id": "044f2f92-382c-4e80-9832-395661c190a4",
   "metadata": {},
   "outputs": [],
   "source": [
    "df1 = df2json.to_dict(orient='list')"
   ]
  },
  {
   "cell_type": "code",
   "execution_count": 26,
   "id": "f624f5a9-17af-4cc5-997c-e9aeffd17e6b",
   "metadata": {},
   "outputs": [],
   "source": [
    "import json\n",
    "with open('manualLabeling.json', 'w') as f:\n",
    "    json.dump(df1, f, indent=4)"
   ]
  },
  {
   "cell_type": "code",
   "execution_count": null,
   "id": "63190b68-5be4-4752-ad62-1e312097a598",
   "metadata": {},
   "outputs": [],
   "source": []
  }
 ],
 "metadata": {
  "kernelspec": {
   "display_name": "Python 3 (ipykernel)",
   "language": "python",
   "name": "python3"
  },
  "language_info": {
   "codemirror_mode": {
    "name": "ipython",
    "version": 3
   },
   "file_extension": ".py",
   "mimetype": "text/x-python",
   "name": "python",
   "nbconvert_exporter": "python",
   "pygments_lexer": "ipython3",
   "version": "3.11.4"
  }
 },
 "nbformat": 4,
 "nbformat_minor": 5
}
