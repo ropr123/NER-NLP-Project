{
 "cells": [
  {
   "cell_type": "code",
   "execution_count": 4,
   "id": "07276323-3813-495f-846b-adb0382ef6e2",
   "metadata": {},
   "outputs": [],
   "source": [
    "from transformers import BertTokenizerFast\n",
    "import pandas as pd\n",
    "from nltk.corpus import words\n",
    "import nltk\n",
    "from transformers import BertTokenizer\n",
    "from nltk.corpus import words, wordnet\n",
    "import ast"
   ]
  },
  {
   "cell_type": "code",
   "execution_count": 5,
   "id": "29eec272-b557-4246-b4fa-f2bcc11ee185",
   "metadata": {},
   "outputs": [
    {
     "name": "stderr",
     "output_type": "stream",
     "text": [
      "[nltk_data] Downloading package words to C:\\Users\\Nico\n",
      "[nltk_data]     Rig\\AppData\\Roaming\\nltk_data...\n",
      "[nltk_data]   Package words is already up-to-date!\n"
     ]
    },
    {
     "data": {
      "text/plain": [
       "True"
      ]
     },
     "execution_count": 5,
     "metadata": {},
     "output_type": "execute_result"
    }
   ],
   "source": [
    "nltk.download('words')"
   ]
  },
  {
   "cell_type": "code",
   "execution_count": 6,
   "id": "92a762c5-94d7-4847-a89a-914d1366a4ca",
   "metadata": {},
   "outputs": [
    {
     "data": {
      "application/vnd.jupyter.widget-view+json": {
       "model_id": "fb47c2f5c0164b3480882f2b9cb740c9",
       "version_major": 2,
       "version_minor": 0
      },
      "text/plain": [
       "tokenizer_config.json:   0%|          | 0.00/48.0 [00:00<?, ?B/s]"
      ]
     },
     "metadata": {},
     "output_type": "display_data"
    },
    {
     "name": "stderr",
     "output_type": "stream",
     "text": [
      "d:\\Anaconda\\Lib\\site-packages\\huggingface_hub\\file_download.py:144: UserWarning: `huggingface_hub` cache-system uses symlinks by default to efficiently store duplicated files but your machine does not support them in C:\\Users\\Nico Rig\\.cache\\huggingface\\hub\\models--bert-base-uncased. Caching files will still work but in a degraded version that might require more space on your disk. This warning can be disabled by setting the `HF_HUB_DISABLE_SYMLINKS_WARNING` environment variable. For more details, see https://huggingface.co/docs/huggingface_hub/how-to-cache#limitations.\n",
      "To support symlinks on Windows, you either need to activate Developer Mode or to run Python as an administrator. In order to activate developer mode, see this article: https://docs.microsoft.com/en-us/windows/apps/get-started/enable-your-device-for-development\n",
      "  warnings.warn(message)\n"
     ]
    },
    {
     "data": {
      "application/vnd.jupyter.widget-view+json": {
       "model_id": "5b09ccde3d4e4b5fa743b33fba627c08",
       "version_major": 2,
       "version_minor": 0
      },
      "text/plain": [
       "vocab.txt:   0%|          | 0.00/232k [00:00<?, ?B/s]"
      ]
     },
     "metadata": {},
     "output_type": "display_data"
    },
    {
     "data": {
      "application/vnd.jupyter.widget-view+json": {
       "model_id": "7ad415f9659f4f0285f51f9adbd75dd3",
       "version_major": 2,
       "version_minor": 0
      },
      "text/plain": [
       "tokenizer.json:   0%|          | 0.00/466k [00:00<?, ?B/s]"
      ]
     },
     "metadata": {},
     "output_type": "display_data"
    },
    {
     "data": {
      "application/vnd.jupyter.widget-view+json": {
       "model_id": "cc0c873ef27d4b0d9e39f066f0ed0171",
       "version_major": 2,
       "version_minor": 0
      },
      "text/plain": [
       "config.json:   0%|          | 0.00/570 [00:00<?, ?B/s]"
      ]
     },
     "metadata": {},
     "output_type": "display_data"
    },
    {
     "name": "stdout",
     "output_type": "stream",
     "text": [
      "Total Missing Words: 0\n"
     ]
    }
   ],
   "source": [
    "# Load English words from NLTK\n",
    "nltk_words = set(words.words())\n",
    "\n",
    "# Extract additional words from WordNet\n",
    "wordnet_words = set(lemma.name().replace('_', ' ') for synset in wordnet.all_synsets() for lemma in synset.lemmas())\n",
    "\n",
    "# Combine both word sets\n",
    "english_vocab = nltk_words.union(wordnet_words)\n",
    "\n",
    "# Load BERT tokenizer\n",
    "tokenizer = BertTokenizerFast.from_pretrained(\"bert-base-uncased\", do_lower_case=True)\n",
    "\n",
    "# Identify missing words\n",
    "missing_words = [word for word in english_vocab if tokenizer.tokenize(word) == ['[UNK]']]\n",
    "\n",
    "print(f\"Total Missing Words: {len(missing_words)}\")\n"
   ]
  },
  {
   "cell_type": "code",
   "execution_count": 7,
   "id": "0dc49137-0984-440a-9d79-f4ba75245cd9",
   "metadata": {},
   "outputs": [],
   "source": [
    "df = pd.read_csv(\"subsetOfDataSoftware.csv\")"
   ]
  },
  {
   "cell_type": "code",
   "execution_count": 8,
   "id": "ec521e6f-0034-4192-84c5-41edc84261f1",
   "metadata": {},
   "outputs": [],
   "source": [
    "def combine_subwords(tokens):\n",
    "    \"\"\"\n",
    "    Combines subword tokens marked with '##' into complete words.\n",
    "    \n",
    "    Args:\n",
    "    tokens (list): List of tokenized words from a tokenizer.\n",
    "\n",
    "    Returns:\n",
    "    list: List of cleaned words without subword fragmentation.\n",
    "    \"\"\"\n",
    "    combined_tokens = []\n",
    "    current_word = \"\"\n",
    "\n",
    "    for token in tokens:\n",
    "        if token.startswith(\"##\"):\n",
    "            # Append to the previous word (removing the '##')\n",
    "            current_word += token[2:]\n",
    "        else:\n",
    "            # Add the previous complete word to the list if it exists\n",
    "            if current_word:\n",
    "                combined_tokens.append(current_word)\n",
    "            # Start a new word\n",
    "            current_word = token\n",
    "        \n",
    "    # Append the last word\n",
    "    if current_word:\n",
    "        combined_tokens.append(current_word)\n",
    "\n",
    "    return combined_tokens"
   ]
  },
  {
   "cell_type": "code",
   "execution_count": 9,
   "id": "d74da249-2a04-4972-afa5-00efbefa8a19",
   "metadata": {},
   "outputs": [],
   "source": [
    "tokenized_text = {\n",
    "    \"id\": [],\n",
    "    \"sentence\": [],\n",
    "    \"length\": []\n",
    "}"
   ]
  },
  {
   "cell_type": "code",
   "execution_count": 10,
   "id": "8100501a-f637-4502-b90b-eaa7b15425c2",
   "metadata": {},
   "outputs": [
    {
     "name": "stderr",
     "output_type": "stream",
     "text": [
      "Token indices sequence length is longer than the specified maximum sequence length for this model (812 > 512). Running this sequence through the model will result in indexing errors\n"
     ]
    }
   ],
   "source": [
    "id = 0\n",
    "for d in df['description'].values:\n",
    "    combined_txt = combine_subwords(tokenizer.tokenize(d))\n",
    "    tokenized_text['id'].append(id)\n",
    "    tokenized_text['sentence'].append(combined_txt)\n",
    "    tokenized_text['length'].append(len((combined_txt)))\n",
    "    id+=1"
   ]
  },
  {
   "cell_type": "code",
   "execution_count": 11,
   "id": "67287f38-0453-48d4-97cc-327b92425d31",
   "metadata": {},
   "outputs": [],
   "source": [
    "df_dict = pd.DataFrame(tokenized_text)"
   ]
  },
  {
   "cell_type": "code",
   "execution_count": 12,
   "id": "5fc7b802-6596-4728-9678-b32ddee08491",
   "metadata": {},
   "outputs": [
    {
     "data": {
      "text/html": [
       "<div>\n",
       "<style scoped>\n",
       "    .dataframe tbody tr th:only-of-type {\n",
       "        vertical-align: middle;\n",
       "    }\n",
       "\n",
       "    .dataframe tbody tr th {\n",
       "        vertical-align: top;\n",
       "    }\n",
       "\n",
       "    .dataframe thead th {\n",
       "        text-align: right;\n",
       "    }\n",
       "</style>\n",
       "<table border=\"1\" class=\"dataframe\">\n",
       "  <thead>\n",
       "    <tr style=\"text-align: right;\">\n",
       "      <th></th>\n",
       "      <th>id</th>\n",
       "      <th>sentence</th>\n",
       "      <th>length</th>\n",
       "    </tr>\n",
       "  </thead>\n",
       "  <tbody>\n",
       "    <tr>\n",
       "      <th>0</th>\n",
       "      <td>0</td>\n",
       "      <td>[education, bachelor, ', s, degree, in, softwa...</td>\n",
       "      <td>30</td>\n",
       "    </tr>\n",
       "    <tr>\n",
       "      <th>1</th>\n",
       "      <td>1</td>\n",
       "      <td>[job, description, :, goyt, is, seeking, a, sk...</td>\n",
       "      <td>295</td>\n",
       "    </tr>\n",
       "    <tr>\n",
       "      <th>2</th>\n",
       "      <td>2</td>\n",
       "      <td>[are, you, driven, by, the, thrill, of, solvin...</td>\n",
       "      <td>234</td>\n",
       "    </tr>\n",
       "    <tr>\n",
       "      <th>3</th>\n",
       "      <td>3</td>\n",
       "      <td>[request, :, data, architectlocation, :, san, ...</td>\n",
       "      <td>73</td>\n",
       "    </tr>\n",
       "    <tr>\n",
       "      <th>4</th>\n",
       "      <td>4</td>\n",
       "      <td>[this, opportunity, is, joining, an, innovatio...</td>\n",
       "      <td>252</td>\n",
       "    </tr>\n",
       "    <tr>\n",
       "      <th>...</th>\n",
       "      <td>...</td>\n",
       "      <td>...</td>\n",
       "      <td>...</td>\n",
       "    </tr>\n",
       "    <tr>\n",
       "      <th>4621</th>\n",
       "      <td>4621</td>\n",
       "      <td>[we, ’, re, looking, for, people, who, put, th...</td>\n",
       "      <td>735</td>\n",
       "    </tr>\n",
       "    <tr>\n",
       "      <th>4622</th>\n",
       "      <td>4622</td>\n",
       "      <td>[role, title, :, data, engineering, lead, for,...</td>\n",
       "      <td>613</td>\n",
       "    </tr>\n",
       "    <tr>\n",
       "      <th>4623</th>\n",
       "      <td>4623</td>\n",
       "      <td>[overview, the, credit, risk, &amp;, decision, sci...</td>\n",
       "      <td>913</td>\n",
       "    </tr>\n",
       "    <tr>\n",
       "      <th>4624</th>\n",
       "      <td>4624</td>\n",
       "      <td>[date, posted, :, 04, /, 19, /, 2024hiring, or...</td>\n",
       "      <td>570</td>\n",
       "    </tr>\n",
       "    <tr>\n",
       "      <th>4625</th>\n",
       "      <td>4625</td>\n",
       "      <td>[about, pinterest, :, millions, of, people, ac...</td>\n",
       "      <td>953</td>\n",
       "    </tr>\n",
       "  </tbody>\n",
       "</table>\n",
       "<p>4626 rows × 3 columns</p>\n",
       "</div>"
      ],
      "text/plain": [
       "        id                                           sentence  length\n",
       "0        0  [education, bachelor, ', s, degree, in, softwa...      30\n",
       "1        1  [job, description, :, goyt, is, seeking, a, sk...     295\n",
       "2        2  [are, you, driven, by, the, thrill, of, solvin...     234\n",
       "3        3  [request, :, data, architectlocation, :, san, ...      73\n",
       "4        4  [this, opportunity, is, joining, an, innovatio...     252\n",
       "...    ...                                                ...     ...\n",
       "4621  4621  [we, ’, re, looking, for, people, who, put, th...     735\n",
       "4622  4622  [role, title, :, data, engineering, lead, for,...     613\n",
       "4623  4623  [overview, the, credit, risk, &, decision, sci...     913\n",
       "4624  4624  [date, posted, :, 04, /, 19, /, 2024hiring, or...     570\n",
       "4625  4625  [about, pinterest, :, millions, of, people, ac...     953\n",
       "\n",
       "[4626 rows x 3 columns]"
      ]
     },
     "execution_count": 12,
     "metadata": {},
     "output_type": "execute_result"
    }
   ],
   "source": [
    "df_dict"
   ]
  },
  {
   "cell_type": "code",
   "execution_count": 13,
   "id": "7a081e0f-b26e-4c3c-b322-35be97d18abe",
   "metadata": {},
   "outputs": [
    {
     "data": {
      "image/png": "[encoded data removed]",
      "text/plain": [
       "<Figure size 800x600 with 1 Axes>"
      ]
     },
     "metadata": {},
     "output_type": "display_data"
    }
   ],
   "source": [
    "import matplotlib.pyplot as plt\n",
    "lengths = df_dict['length']\n",
    "plt.figure(figsize=(8, 6));\n",
    "plt.hist(lengths, bins=30, edgecolor='black');\n",
    "plt.title('Histogram of Tokenized Sentence Lengths');\n",
    "plt.xlabel('Sentence Length');\n",
    "plt.ylabel('Frequency');\n",
    "plt.grid(True);\n",
    "plt.show();"
   ]
  },
  {
   "cell_type": "code",
   "execution_count": 14,
   "id": "f6d55dfb-e4ad-44f9-b298-aa7125d542b6",
   "metadata": {},
   "outputs": [],
   "source": [
    "subset=df_dict[df_dict['length'] < 900]"
   ]
  },
  {
   "cell_type": "code",
   "execution_count": 15,
   "id": "abae819a-3151-4a3c-b6cb-2f17f8182c3f",
   "metadata": {},
   "outputs": [
    {
     "data": {
      "text/html": [
       "<div>\n",
       "<style scoped>\n",
       "    .dataframe tbody tr th:only-of-type {\n",
       "        vertical-align: middle;\n",
       "    }\n",
       "\n",
       "    .dataframe tbody tr th {\n",
       "        vertical-align: top;\n",
       "    }\n",
       "\n",
       "    .dataframe thead th {\n",
       "        text-align: right;\n",
       "    }\n",
       "</style>\n",
       "<table border=\"1\" class=\"dataframe\">\n",
       "  <thead>\n",
       "    <tr style=\"text-align: right;\">\n",
       "      <th></th>\n",
       "      <th>id</th>\n",
       "      <th>sentence</th>\n",
       "      <th>length</th>\n",
       "    </tr>\n",
       "  </thead>\n",
       "  <tbody>\n",
       "    <tr>\n",
       "      <th>0</th>\n",
       "      <td>0</td>\n",
       "      <td>[education, bachelor, ', s, degree, in, softwa...</td>\n",
       "      <td>30</td>\n",
       "    </tr>\n",
       "    <tr>\n",
       "      <th>1</th>\n",
       "      <td>1</td>\n",
       "      <td>[job, description, :, goyt, is, seeking, a, sk...</td>\n",
       "      <td>295</td>\n",
       "    </tr>\n",
       "    <tr>\n",
       "      <th>2</th>\n",
       "      <td>2</td>\n",
       "      <td>[are, you, driven, by, the, thrill, of, solvin...</td>\n",
       "      <td>234</td>\n",
       "    </tr>\n",
       "    <tr>\n",
       "      <th>3</th>\n",
       "      <td>3</td>\n",
       "      <td>[request, :, data, architectlocation, :, san, ...</td>\n",
       "      <td>73</td>\n",
       "    </tr>\n",
       "    <tr>\n",
       "      <th>4</th>\n",
       "      <td>4</td>\n",
       "      <td>[this, opportunity, is, joining, an, innovatio...</td>\n",
       "      <td>252</td>\n",
       "    </tr>\n",
       "    <tr>\n",
       "      <th>...</th>\n",
       "      <td>...</td>\n",
       "      <td>...</td>\n",
       "      <td>...</td>\n",
       "    </tr>\n",
       "    <tr>\n",
       "      <th>4619</th>\n",
       "      <td>4619</td>\n",
       "      <td>[about, this, featured, opportunity, we, are, ...</td>\n",
       "      <td>559</td>\n",
       "    </tr>\n",
       "    <tr>\n",
       "      <th>4620</th>\n",
       "      <td>4620</td>\n",
       "      <td>[exciting, long, -, term, and, fully, remote, ...</td>\n",
       "      <td>179</td>\n",
       "    </tr>\n",
       "    <tr>\n",
       "      <th>4621</th>\n",
       "      <td>4621</td>\n",
       "      <td>[we, ’, re, looking, for, people, who, put, th...</td>\n",
       "      <td>735</td>\n",
       "    </tr>\n",
       "    <tr>\n",
       "      <th>4622</th>\n",
       "      <td>4622</td>\n",
       "      <td>[role, title, :, data, engineering, lead, for,...</td>\n",
       "      <td>613</td>\n",
       "    </tr>\n",
       "    <tr>\n",
       "      <th>4624</th>\n",
       "      <td>4624</td>\n",
       "      <td>[date, posted, :, 04, /, 19, /, 2024hiring, or...</td>\n",
       "      <td>570</td>\n",
       "    </tr>\n",
       "  </tbody>\n",
       "</table>\n",
       "<p>3346 rows × 3 columns</p>\n",
       "</div>"
      ],
      "text/plain": [
       "        id                                           sentence  length\n",
       "0        0  [education, bachelor, ', s, degree, in, softwa...      30\n",
       "1        1  [job, description, :, goyt, is, seeking, a, sk...     295\n",
       "2        2  [are, you, driven, by, the, thrill, of, solvin...     234\n",
       "3        3  [request, :, data, architectlocation, :, san, ...      73\n",
       "4        4  [this, opportunity, is, joining, an, innovatio...     252\n",
       "...    ...                                                ...     ...\n",
       "4619  4619  [about, this, featured, opportunity, we, are, ...     559\n",
       "4620  4620  [exciting, long, -, term, and, fully, remote, ...     179\n",
       "4621  4621  [we, ’, re, looking, for, people, who, put, th...     735\n",
       "4622  4622  [role, title, :, data, engineering, lead, for,...     613\n",
       "4624  4624  [date, posted, :, 04, /, 19, /, 2024hiring, or...     570\n",
       "\n",
       "[3346 rows x 3 columns]"
      ]
     },
     "execution_count": 15,
     "metadata": {},
     "output_type": "execute_result"
    }
   ],
   "source": [
    "subset"
   ]
  },
  {
   "cell_type": "code",
   "execution_count": 16,
   "id": "0de4a103-34d8-4bf6-b7e3-64924d3e23da",
   "metadata": {},
   "outputs": [],
   "source": [
    "max_length_row = subset[subset['length'] == subset['length'].max()]"
   ]
  },
  {
   "cell_type": "code",
   "execution_count": 17,
   "id": "5360b9a5-2d25-4cd8-b2d2-ac386dcc2e26",
   "metadata": {},
   "outputs": [
    {
     "name": "stderr",
     "output_type": "stream",
     "text": [
      "C:\\Users\\Nico Rig\\AppData\\Local\\Temp\\ipykernel_24812\\4267716270.py:1: FutureWarning: Series.__getitem__ treating keys as positions is deprecated. In a future version, integer keys will always be treated as labels (consistent with DataFrame behavior). To access a value by position, use `ser.iloc[pos]`\n",
      "  max_length_row.iloc[0][0]\n"
     ]
    },
    {
     "data": {
      "text/plain": [
       "543"
      ]
     },
     "execution_count": 17,
     "metadata": {},
     "output_type": "execute_result"
    }
   ],
   "source": [
    "max_length_row.iloc[0][0]"
   ]
  },
  {
   "cell_type": "code",
   "execution_count": 18,
   "id": "dab7c7a5-478e-4ce3-8272-6e0dc6785dde",
   "metadata": {},
   "outputs": [
    {
     "data": {
      "text/html": [
       "<div>\n",
       "<style scoped>\n",
       "    .dataframe tbody tr th:only-of-type {\n",
       "        vertical-align: middle;\n",
       "    }\n",
       "\n",
       "    .dataframe tbody tr th {\n",
       "        vertical-align: top;\n",
       "    }\n",
       "\n",
       "    .dataframe thead th {\n",
       "        text-align: right;\n",
       "    }\n",
       "</style>\n",
       "<table border=\"1\" class=\"dataframe\">\n",
       "  <thead>\n",
       "    <tr style=\"text-align: right;\">\n",
       "      <th></th>\n",
       "      <th>id</th>\n",
       "      <th>sentence</th>\n",
       "      <th>length</th>\n",
       "    </tr>\n",
       "  </thead>\n",
       "  <tbody>\n",
       "    <tr>\n",
       "      <th>0</th>\n",
       "      <td>0</td>\n",
       "      <td>[education, bachelor, ', s, degree, in, softwa...</td>\n",
       "      <td>30</td>\n",
       "    </tr>\n",
       "    <tr>\n",
       "      <th>3</th>\n",
       "      <td>3</td>\n",
       "      <td>[request, :, data, architectlocation, :, san, ...</td>\n",
       "      <td>73</td>\n",
       "    </tr>\n",
       "    <tr>\n",
       "      <th>5</th>\n",
       "      <td>5</td>\n",
       "      <td>[the, enterprise, data, infrastructure, and, a...</td>\n",
       "      <td>72</td>\n",
       "    </tr>\n",
       "    <tr>\n",
       "      <th>8</th>\n",
       "      <td>8</td>\n",
       "      <td>[data, engineer, with, kafka, (, w2, only, ), ...</td>\n",
       "      <td>165</td>\n",
       "    </tr>\n",
       "    <tr>\n",
       "      <th>9</th>\n",
       "      <td>9</td>\n",
       "      <td>[company, descriptionpb, built, is, a, residen...</td>\n",
       "      <td>176</td>\n",
       "    </tr>\n",
       "    <tr>\n",
       "      <th>...</th>\n",
       "      <td>...</td>\n",
       "      <td>...</td>\n",
       "      <td>...</td>\n",
       "    </tr>\n",
       "    <tr>\n",
       "      <th>4508</th>\n",
       "      <td>4508</td>\n",
       "      <td>[job, title, :, datebase, adminjob, location, ...</td>\n",
       "      <td>191</td>\n",
       "    </tr>\n",
       "    <tr>\n",
       "      <th>4537</th>\n",
       "      <td>4537</td>\n",
       "      <td>[company, descriptionstarpro, -, better, data,...</td>\n",
       "      <td>184</td>\n",
       "    </tr>\n",
       "    <tr>\n",
       "      <th>4575</th>\n",
       "      <td>4575</td>\n",
       "      <td>[job, title, :, embedded, software, engineer, ...</td>\n",
       "      <td>125</td>\n",
       "    </tr>\n",
       "    <tr>\n",
       "      <th>4618</th>\n",
       "      <td>4618</td>\n",
       "      <td>[senior, embedded, developer, -, bs, degree, i...</td>\n",
       "      <td>71</td>\n",
       "    </tr>\n",
       "    <tr>\n",
       "      <th>4620</th>\n",
       "      <td>4620</td>\n",
       "      <td>[exciting, long, -, term, and, fully, remote, ...</td>\n",
       "      <td>179</td>\n",
       "    </tr>\n",
       "  </tbody>\n",
       "</table>\n",
       "<p>466 rows × 3 columns</p>\n",
       "</div>"
      ],
      "text/plain": [
       "        id                                           sentence  length\n",
       "0        0  [education, bachelor, ', s, degree, in, softwa...      30\n",
       "3        3  [request, :, data, architectlocation, :, san, ...      73\n",
       "5        5  [the, enterprise, data, infrastructure, and, a...      72\n",
       "8        8  [data, engineer, with, kafka, (, w2, only, ), ...     165\n",
       "9        9  [company, descriptionpb, built, is, a, residen...     176\n",
       "...    ...                                                ...     ...\n",
       "4508  4508  [job, title, :, datebase, adminjob, location, ...     191\n",
       "4537  4537  [company, descriptionstarpro, -, better, data,...     184\n",
       "4575  4575  [job, title, :, embedded, software, engineer, ...     125\n",
       "4618  4618  [senior, embedded, developer, -, bs, degree, i...      71\n",
       "4620  4620  [exciting, long, -, term, and, fully, remote, ...     179\n",
       "\n",
       "[466 rows x 3 columns]"
      ]
     },
     "execution_count": 18,
     "metadata": {},
     "output_type": "execute_result"
    }
   ],
   "source": [
    "subset[subset['length'] <= 200]"
   ]
  },
  {
   "cell_type": "code",
   "execution_count": 19,
   "id": "90c209e0-4164-4697-acbd-d318e5c1f6b4",
   "metadata": {},
   "outputs": [
    {
     "name": "stderr",
     "output_type": "stream",
     "text": [
      "C:\\Users\\Nico Rig\\AppData\\Local\\Temp\\ipykernel_24812\\4044800302.py:1: FutureWarning: Series.__getitem__ treating keys as positions is deprecated. In a future version, integer keys will always be treated as labels (consistent with DataFrame behavior). To access a value by position, use `ser.iloc[pos]`\n",
      "  subset[subset['id'] == 9].iloc[0][1]\n"
     ]
    },
    {
     "data": {
      "text/plain": [
       "['company',\n",
       " 'descriptionpb',\n",
       " 'built',\n",
       " 'is',\n",
       " 'a',\n",
       " 'residential',\n",
       " 'construction',\n",
       " 'and',\n",
       " 'developement',\n",
       " 'company',\n",
       " 'based',\n",
       " 'in',\n",
       " 'jupiter',\n",
       " ',',\n",
       " 'fl',\n",
       " '.',\n",
       " 'with',\n",
       " 'over',\n",
       " '40',\n",
       " 'years',\n",
       " 'of',\n",
       " 'experience',\n",
       " ',',\n",
       " 'pb',\n",
       " 'built',\n",
       " 'has',\n",
       " 'built',\n",
       " 'over',\n",
       " '1',\n",
       " 'million',\n",
       " 'square',\n",
       " 'feet',\n",
       " 'of',\n",
       " 'commercial',\n",
       " '/',\n",
       " 'retail',\n",
       " 'space',\n",
       " 'and',\n",
       " 'over',\n",
       " '$',\n",
       " '200',\n",
       " 'million',\n",
       " 'in',\n",
       " 'residential',\n",
       " 'custom',\n",
       " 'luxury',\n",
       " 'homes',\n",
       " '.',\n",
       " 'they',\n",
       " 'are',\n",
       " 'known',\n",
       " 'for',\n",
       " 'constructing',\n",
       " 'unique',\n",
       " 'and',\n",
       " 'distinctive',\n",
       " 'homes',\n",
       " 'using',\n",
       " 'exquisite',\n",
       " 'materials',\n",
       " 'in',\n",
       " 'some',\n",
       " 'of',\n",
       " 'florida',\n",
       " \"'\",\n",
       " 's',\n",
       " 'finest',\n",
       " 'communities',\n",
       " '.',\n",
       " 'role',\n",
       " 'descriptionthis',\n",
       " 'is',\n",
       " 'a',\n",
       " 'full',\n",
       " '-',\n",
       " 'time',\n",
       " 'on',\n",
       " '-',\n",
       " 'site',\n",
       " 'role',\n",
       " 'for',\n",
       " 'a',\n",
       " 'receptionist',\n",
       " '/',\n",
       " 'data',\n",
       " 'entry',\n",
       " 'position',\n",
       " 'at',\n",
       " 'pb',\n",
       " 'built',\n",
       " 'in',\n",
       " 'jupiter',\n",
       " ',',\n",
       " 'fl',\n",
       " '.',\n",
       " 'as',\n",
       " 'a',\n",
       " 'receptionist',\n",
       " '/',\n",
       " 'data',\n",
       " 'entry',\n",
       " ',',\n",
       " 'you',\n",
       " 'will',\n",
       " 'be',\n",
       " 'responsible',\n",
       " 'for',\n",
       " 'handling',\n",
       " 'incoming',\n",
       " 'calls',\n",
       " ',',\n",
       " 'small',\n",
       " 'deliveries',\n",
       " ',',\n",
       " 'disbursing',\n",
       " 'checks',\n",
       " 'and',\n",
       " 'performing',\n",
       " 'data',\n",
       " 'entry',\n",
       " 'tasks',\n",
       " '.',\n",
       " 'you',\n",
       " 'will',\n",
       " 'also',\n",
       " 'assist',\n",
       " 'with',\n",
       " 'general',\n",
       " 'administrative',\n",
       " 'duties',\n",
       " 'and',\n",
       " 'provide',\n",
       " 'support',\n",
       " 'to',\n",
       " 'the',\n",
       " 'team',\n",
       " 'as',\n",
       " 'needed',\n",
       " '.',\n",
       " 'qualificationsonly',\n",
       " 'locally',\n",
       " 'available',\n",
       " 'prospects',\n",
       " 'need',\n",
       " 'applyprior',\n",
       " 'experience',\n",
       " 'as',\n",
       " 'a',\n",
       " 'receptionist',\n",
       " 'or',\n",
       " 'in',\n",
       " 'a',\n",
       " 'data',\n",
       " 'entry',\n",
       " 'role',\n",
       " 'is',\n",
       " 'preferredexcellent',\n",
       " 'communication',\n",
       " 'and',\n",
       " 'interpersonal',\n",
       " 'skillsproficient',\n",
       " 'in',\n",
       " 'microsoft',\n",
       " 'office',\n",
       " 'suiteattention',\n",
       " 'to',\n",
       " 'detail',\n",
       " 'and',\n",
       " 'accuracystrong',\n",
       " 'organizational',\n",
       " 'skillsability',\n",
       " 'to',\n",
       " 'multitask',\n",
       " 'and',\n",
       " 'prioritize',\n",
       " 'responsibilities']"
      ]
     },
     "execution_count": 19,
     "metadata": {},
     "output_type": "execute_result"
    }
   ],
   "source": [
    "subset[subset['id'] == 9].iloc[0][1]"
   ]
  },
  {
   "cell_type": "code",
   "execution_count": 25,
   "id": "2c7fd4a1-08e5-4f96-b6e6-61c4122d2f33",
   "metadata": {},
   "outputs": [
    {
     "name": "stdout",
     "output_type": "stream",
     "text": [
      "gtLWnZWKyHGeQr69A4Gi5v7CoNjpxukp\n",
      "Mistral API Key set successfully.\n"
     ]
    }
   ],
   "source": [
    "import os\n",
    "from langchain_mistralai import ChatMistralAI\n",
    "from langchain_core.prompts import PromptTemplate\n",
    "\n",
    "def set_api_key_from_file(file_path):\n",
    "    try:\n",
    "        with open(file_path, 'r') as file:\n",
    "            api_key = file.read().strip()\n",
    "            print(api_key)\n",
    "            os.environ[\"MISTRAL_API_KEY\"] = api_key\n",
    "            print(\"Mistral API Key set successfully.\")\n",
    "    except FileNotFoundError:\n",
    "        raise FileNotFoundError(f\"Error: File '{file_path}' not found.\")\n",
    "    except Exception as e:\n",
    "        raise Exception(f\"An error occurred: {e}\")\n",
    "\n",
    "# Set API key using the file\n",
    "api_key_path = \"mistral_key.txt\"\n",
    "set_api_key_from_file(api_key_path)\n",
    "\n",
    "# Initialize MistralAI with LangChain\n",
    "llm = ChatMistralAI(model_name=\"mistral-large-latest\", temperature=0.7)\n",
    "\n",
    "# Read the prompt template from the file\n",
    "with open(\"prompt.txt\") as f:\n",
    "    template = f.read()\n",
    "\n",
    "# Define the prompt using LangChain\n",
    "prompt_template = PromptTemplate.from_template(template)\n"
   ]
  },
  {
   "cell_type": "code",
   "execution_count": 39,
   "id": "94f94a9b-320d-45c4-96fe-ca354e90f20c",
   "metadata": {},
   "outputs": [
    {
     "name": "stdout",
     "output_type": "stream",
     "text": [
      "Mistral API Key set successfully.\n"
     ]
    }
   ],
   "source": [
    "import os\n",
    "import requests\n",
    "import json\n",
    "\n",
    "def set_api_key_from_file(file_path):\n",
    "    try:\n",
    "        with open(file_path, 'r') as file:\n",
    "            api_key = file.read().strip()\n",
    "            os.environ[\"MISTRAL_API_KEY\"] = api_key\n",
    "            print(\"Mistral API Key set successfully.\")\n",
    "    except FileNotFoundError:\n",
    "        raise FileNotFoundError(f\"Error: File '{file_path}' not found.\")\n",
    "    except Exception as e:\n",
    "        raise Exception(f\"An error occurred: {e}\")\n",
    "\n",
    "# Set API key\n",
    "api_key_path = \"mistral_key.txt\"\n",
    "set_api_key_from_file(api_key_path)\n",
    "\n",
    "# Load prompt template from file\n",
    "with open(\"prompt.txt\", \"r\") as f:\n",
    "    template = f.read()\n",
    "\n",
    "# Direct call to Mistral API\n",
    "def get_mistral_response(user_input, model=\"mistral-large-latest\", temperature=0.7):\n",
    "    api_key = os.environ[\"MISTRAL_API_KEY\"]\n",
    "    url = \"https://api.mistral.ai/v1/chat/completions\"\n",
    "    headers = {\n",
    "        \"Authorization\": f\"Bearer {api_key}\",\n",
    "        \"Content-Type\": \"application/json\"\n",
    "    }\n",
    "\n",
    "    # Format the prompt\n",
    "    prompt = template.format(job_description=user_input)\n",
    "\n",
    "    payload = {\n",
    "        \"model\": model,\n",
    "        \"temperature\": temperature,\n",
    "        \"messages\": [\n",
    "            {\"role\": \"user\", \"content\": prompt}\n",
    "        ]\n",
    "    }\n",
    "\n",
    "    response = requests.post(url, headers=headers, data=json.dumps(payload))\n",
    "\n",
    "    if response.status_code == 200:\n",
    "        return response.json()[\"choices\"][0][\"message\"][\"content\"]\n",
    "    else:\n",
    "        raise Exception(f\"Error: {response.status_code} - {response.text}\")\n"
   ]
  },
  {
   "cell_type": "code",
   "execution_count": 40,
   "id": "cea2d0a3-fbc6-472f-8480-509213c91b12",
   "metadata": {},
   "outputs": [
    {
     "name": "stderr",
     "output_type": "stream",
     "text": [
      "Processing job descriptions:  40%|████      | 40/100 [57:13<56:47, 56.78s/it]   "
     ]
    },
    {
     "name": "stdout",
     "output_type": "stream",
     "text": [
      "❌ Error: Error: 502 - <html>\n",
      "<head><title>502 Bad Gateway</title></head>\n",
      "<body>\n",
      "<center><h1>502 Bad Gateway</h1></center>\n",
      "<hr><center>cloudflare</center>\n",
      "</body>\n",
      "</html>\n",
      "\n"
     ]
    },
    {
     "name": "stderr",
     "output_type": "stream",
     "text": [
      "Processing job descriptions: 100%|██████████| 100/100 [2:15:22<00:00, 81.23s/it]  \n"
     ]
    }
   ],
   "source": [
    "from tqdm import tqdm\n",
    "import pandas as pd\n",
    "\n",
    "# Take the first 25 rows of the DataFrame\n",
    "subset100_ = subset[1200:1300].copy()  # .copy() avoids SettingWithCopyWarning\n",
    "\n",
    "result = []\n",
    "\n",
    "# Loop with progress bar\n",
    "for job_description in tqdm(subset100_['sentence'], desc=\"Processing job descriptions\"):\n",
    "    try:\n",
    "        response = get_mistral_response(job_description)  # from the earlier function\n",
    "        result.append(response)\n",
    "    except Exception as e:\n",
    "        print(f\"❌ Error: {e}\")\n",
    "        result.append(\"ERROR\")\n",
    "\n",
    "# Assign results to a new column\n",
    "subset100_['result'] = result\n"
   ]
  },
  {
   "cell_type": "code",
   "execution_count": 41,
   "id": "ae96289d",
   "metadata": {},
   "outputs": [],
   "source": [
    "subset100_['result']=result\n",
    "subset100_.to_csv('subset_1200_to_1300_.csv')"
   ]
  },
  {
   "cell_type": "code",
   "execution_count": 42,
   "id": "bbd7aaad",
   "metadata": {},
   "outputs": [
    {
     "name": "stderr",
     "output_type": "stream",
     "text": [
      "Processing job descriptions: 100%|██████████| 200/200 [4:44:37<00:00, 85.39s/it]   \n"
     ]
    }
   ],
   "source": [
    "from tqdm import tqdm\n",
    "import pandas as pd\n",
    "\n",
    "# Take the first 25 rows of the DataFrame\n",
    "subset100_ = subset[1300:1500].copy()  # .copy() avoids SettingWithCopyWarning\n",
    "\n",
    "result = []\n",
    "\n",
    "# Loop with progress bar\n",
    "for job_description in tqdm(subset100_['sentence'], desc=\"Processing job descriptions\"):\n",
    "    try:\n",
    "        response = get_mistral_response(job_description)  # from the earlier function\n",
    "        result.append(response)\n",
    "    except Exception as e:\n",
    "        print(f\"❌ Error: {e}\")\n",
    "        result.append(\"ERROR\")\n",
    "\n",
    "# Assign results to a new column\n",
    "subset100_['result'] = result\n"
   ]
  },
  {
   "cell_type": "code",
   "execution_count": 43,
   "id": "3641a101",
   "metadata": {},
   "outputs": [],
   "source": [
    "subset100_['result']=result\n",
    "subset100_.to_csv('subset_1300_to_1500_.csv')"
   ]
  },
  {
   "cell_type": "code",
   "execution_count": 44,
   "id": "2b021430",
   "metadata": {},
   "outputs": [
    {
     "name": "stderr",
     "output_type": "stream",
     "text": [
      "Processing job descriptions:  29%|██▉       | 29/100 [34:59<53:01, 44.81s/it]   "
     ]
    },
    {
     "name": "stdout",
     "output_type": "stream",
     "text": [
      "❌ Error: Error: 502 - <html>\n",
      "<head><title>502 Bad Gateway</title></head>\n",
      "<body>\n",
      "<center><h1>502 Bad Gateway</h1></center>\n",
      "<hr><center>cloudflare</center>\n",
      "</body>\n",
      "</html>\n",
      "\n"
     ]
    },
    {
     "name": "stderr",
     "output_type": "stream",
     "text": [
      "Processing job descriptions: 100%|██████████| 100/100 [2:07:45<00:00, 76.65s/it]  \n"
     ]
    }
   ],
   "source": [
    "from tqdm import tqdm\n",
    "import pandas as pd\n",
    "\n",
    "# Take the first 25 rows of the DataFrame\n",
    "subset100_ = subset[1500:1600].copy()  # .copy() avoids SettingWithCopyWarning\n",
    "\n",
    "result = []\n",
    "\n",
    "# Loop with progress bar\n",
    "for job_description in tqdm(subset100_['sentence'], desc=\"Processing job descriptions\"):\n",
    "    try:\n",
    "        response = get_mistral_response(job_description)  # from the earlier function\n",
    "        result.append(response)\n",
    "    except Exception as e:\n",
    "        print(f\"❌ Error: {e}\")\n",
    "        result.append(\"ERROR\")\n",
    "\n",
    "# Assign results to a new column\n",
    "subset100_['result'] = result\n"
   ]
  },
  {
   "cell_type": "code",
   "execution_count": 45,
   "id": "75bd49c0",
   "metadata": {},
   "outputs": [],
   "source": [
    "subset100_['result']=result\n",
    "subset100_.to_csv('subset_1500_to_1600_.csv')"
   ]
  },
  {
   "cell_type": "code",
   "execution_count": null,
   "id": "2e3c44d0",
   "metadata": {},
   "outputs": [],
   "source": []
  }
 ],
 "metadata": {
  "kernelspec": {
   "display_name": "base",
   "language": "python",
   "name": "python3"
  },
  "language_info": {
   "codemirror_mode": {
    "name": "ipython",
    "version": 3
   },
   "file_extension": ".py",
   "mimetype": "text/x-python",
   "name": "python",
   "nbconvert_exporter": "python",
   "pygments_lexer": "ipython3",
   "version": "3.12.7"
  }
 },
 "nbformat": 4,
 "nbformat_minor": 5
}
