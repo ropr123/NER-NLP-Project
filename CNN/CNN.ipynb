{
 "cells": [
  {
   "cell_type": "code",
   "execution_count": null,
   "id": "b8ff61f4",
   "metadata": {},
   "outputs": [],
   "source": [
    "import pandas as pd\n",
    "import numpy as np\n",
    "import matplotlib.pyplot as plt\n",
    "import ast\n",
    "import torch\n",
    "import torch.nn as nn\n",
    "from torch.utils.data import Dataset, DataLoader\n",
    "from sklearn.model_selection import train_test_split\n",
    "from collections import defaultdict\n",
    "from tqdm import tqdm\n",
    "from torch.nn.utils.rnn import pad_sequence\n",
    "from collections import Counter\n",
    "import pickle\n",
    "from sklearn.metrics import confusion_matrix, ConfusionMatrixDisplay\n",
    "\n",
    "\n",
    "device = torch.device(\"cuda\" if torch.cuda.is_available() else \"cpu\")\n",
    "max_len = 900\n",
    "embed_dim = 100"
   ]
  },
  {
   "cell_type": "code",
   "execution_count": 3,
   "id": "b6e9f28c",
   "metadata": {},
   "outputs": [],
   "source": [
    "LABEL_LIST = [\n",
    "    \"O\",\n",
    "    \"B-EDU\", \"I-EDU\",\n",
    "    \"B-HSK\", \"I-HSK\",\n",
    "    \"B-YOE\", \"I-YOE\",\n",
    "    \"B-ORG\", \"I-ORG\",\n",
    "    \"B-JOB\", \"I-JOB\",\n",
    "    \"B-LOC\", \"I-LOC\",\n",
    "]\n",
    "label2id = {label: idx for idx, label in enumerate(LABEL_LIST)}\n",
    "id2label = {idx: label for label, idx in label2id.items()}\n",
    "NUM_CLASSES = len(label2id)\n"
   ]
  },
  {
   "cell_type": "code",
   "execution_count": 4,
   "id": "dad7ea64",
   "metadata": {},
   "outputs": [],
   "source": [
    "df = pd.read_csv(\"Final Processed Dataset.csv\")\n",
    "df[\"parsed_list\"] = df[\"parsed_list\"].apply(ast.literal_eval)"
   ]
  },
  {
   "cell_type": "code",
   "execution_count": 5,
   "id": "5cb349a7",
   "metadata": {},
   "outputs": [],
   "source": [
    "# Create list of (word, tag) pairs per sentence\n",
    "data = [\n",
    "    [(token[0], token[1]) for token in row if isinstance(token, (list, tuple)) and len(token) >= 2]\n",
    "    for row in df['parsed_list']\n",
    "]\n",
    "\n",
    "# Now separate words and tags\n",
    "X = [[word for word, tag in sentence] for sentence in data]\n",
    "y = [[tag for word, tag in sentence] for sentence in data]\n"
   ]
  },
  {
   "cell_type": "code",
   "execution_count": 6,
   "id": "7c3c365e",
   "metadata": {},
   "outputs": [],
   "source": [
    "# Word vocabulary\n",
    "words = list(set(token for sentence in X for token in sentence))\n",
    "word2idx = {word: idx + 2 for idx, word in enumerate(words)}\n",
    "word2idx[\"PAD\"] = 0\n",
    "word2idx[\"UNK\"] = 1\n",
    "idx2word = {idx: word for word, idx in word2idx.items()}\n",
    "\n",
    "# Label vocabulary\n",
    "valid_tags = {\n",
    "    \"B-HSK\", \"I-HSK\", \"B-JOB\", \"I-JOB\", \"B-YOE\", \"I-YOE\",\n",
    "    \"B-ORG\", \"I-ORG\", \"B-LOC\", \"I-LOC\", \"B-EDU\", \"I-EDU\", \"O\"\n",
    "}\n",
    "y = [[tag if tag in valid_tags else \"O\" for tag in seq] for seq in y]\n",
    "\n",
    "from sklearn.preprocessing import LabelEncoder\n",
    "\n",
    "tag_encoder = LabelEncoder()\n",
    "flat_tags = [tag for seq in y for tag in seq]\n",
    "tag_encoder.fit(flat_tags)\n",
    "\n",
    "tag2idx = {tag: idx for idx, tag in enumerate(tag_encoder.classes_)}\n",
    "idx2tag = {idx: tag for tag, idx in tag2idx.items()}\n"
   ]
  },
  {
   "cell_type": "code",
   "execution_count": 7,
   "id": "a8942645",
   "metadata": {},
   "outputs": [],
   "source": [
    "from sklearn.model_selection import train_test_split\n",
    "\n",
    "# Split into temp/test first\n",
    "X_temp, X_test, y_temp, y_test = train_test_split(X, y, test_size=0.2, random_state=42)\n",
    "\n",
    "# Then split temp into train/val\n",
    "X_train, X_val, y_train, y_val = train_test_split(X_temp, y_temp, test_size=0.15, random_state=42)\n"
   ]
  },
  {
   "cell_type": "code",
   "execution_count": null,
   "id": "ca618ff5",
   "metadata": {},
   "outputs": [],
   "source": []
  },
  {
   "cell_type": "code",
   "execution_count": 8,
   "id": "0a6300eb",
   "metadata": {},
   "outputs": [],
   "source": [
    "\n",
    "\n",
    "max_len = 900\n",
    "\n",
    "def encode_and_pad(seq_list, mapping, pad_value):\n",
    "    \"\"\"Encode sequences and pad them to max_len using PyTorch.\"\"\"\n",
    "    encoded = [\n",
    "        torch.tensor([mapping.get(item, mapping.get(\"UNK\")) for item in seq], dtype=torch.long)\n",
    "        for seq in seq_list\n",
    "    ]\n",
    "    # Manually pad to max_len\n",
    "    padded = [\n",
    "        torch.cat([seq, torch.full((max_len - len(seq),), pad_value)]) if len(seq) < max_len else seq[:max_len]\n",
    "        for seq in encoded\n",
    "    ]\n",
    "    return torch.stack(padded)\n",
    "\n",
    "# Word sequences\n",
    "X_train_pad = encode_and_pad(X_train, word2idx, pad_value=word2idx[\"PAD\"])\n",
    "X_val_pad   = encode_and_pad(X_val, word2idx, pad_value=word2idx[\"PAD\"])\n",
    "X_test_pad  = encode_and_pad(X_test, word2idx, pad_value=word2idx[\"PAD\"])\n",
    "\n",
    "# Label sequences\n",
    "y_train_pad = encode_and_pad(y_train, tag2idx, pad_value=tag2idx[\"O\"])\n",
    "y_val_pad   = encode_and_pad(y_val, tag2idx, pad_value=tag2idx[\"O\"])\n",
    "y_test_pad  = encode_and_pad(y_test, tag2idx, pad_value=tag2idx[\"O\"])\n"
   ]
  },
  {
   "cell_type": "code",
   "execution_count": 9,
   "id": "25b994cc",
   "metadata": {},
   "outputs": [
    {
     "name": "stdout",
     "output_type": "stream",
     "text": [
      "X_train shape: torch.Size([1392, 900])\n",
      "y_train shape: torch.Size([1392, 900])\n",
      "Vocab size: 16028\n",
      "Tag set size: 13\n"
     ]
    }
   ],
   "source": [
    "print(\"X_train shape:\", X_train_pad.shape)\n",
    "print(\"y_train shape:\", y_train_pad.shape)\n",
    "print(\"Vocab size:\", len(word2idx))\n",
    "print(\"Tag set size:\", len(tag2idx))\n"
   ]
  },
  {
   "cell_type": "code",
   "execution_count": 10,
   "id": "93c99962",
   "metadata": {},
   "outputs": [],
   "source": [
    "def load_glove(path, word2idx, dim=100):\n",
    "    embeddings_index = {}\n",
    "    with open(path, encoding='utf-8') as f:\n",
    "        for line in f:\n",
    "            parts = line.strip().split()\n",
    "            word = parts[0]\n",
    "            vec = np.array(parts[1:], dtype='float32')\n",
    "            embeddings_index[word] = vec\n",
    "\n",
    "    matrix = np.zeros((len(word2idx), dim))\n",
    "    for word, idx in word2idx.items():\n",
    "        matrix[idx] = embeddings_index.get(word, np.random.normal(scale=0.6, size=(dim,)))\n",
    "    return torch.tensor(matrix, dtype=torch.float32)\n",
    "\n",
    "embedding_matrix = load_glove(\"glove.6B.100d.txt\", word2idx, embed_dim)"
   ]
  },
  {
   "cell_type": "code",
   "execution_count": 11,
   "id": "42447445",
   "metadata": {},
   "outputs": [],
   "source": [
    "all_train_labels = [label for sequence in y_train for label in sequence]\n",
    "label_counts = Counter(all_train_labels)\n",
    "total_count = sum(label_counts.values())\n",
    "class_weights = {tag2idx[tag]: total_count / count for tag, count in label_counts.items()}\n",
    "max_weight = max(class_weights.values())\n",
    "normalized_weights = {k: v / max_weight for k, v in class_weights.items()}\n",
    "weights_tensor = torch.ones(len(tag2idx))\n",
    "for idx, weight in normalized_weights.items():\n",
    "    weights_tensor[idx] = weight\n"
   ]
  },
  {
   "cell_type": "code",
   "execution_count": 12,
   "id": "72a4bfac",
   "metadata": {},
   "outputs": [],
   "source": [
    "class NERDataset(Dataset): \n",
    "    def __init__(self, X, y):\n",
    "        self.X = X\n",
    "        self.y = y\n",
    "    def __len__(self):\n",
    "        return self.X.shape[0]\n",
    "    def __getitem__(self, idx):\n",
    "        return self.X[idx], self.y[idx]\n",
    "\n",
    "train_loader = DataLoader(NERDataset(X_train_pad, y_train_pad), batch_size=16, shuffle=True)\n",
    "val_loader   = DataLoader(NERDataset(X_val_pad, y_val_pad), batch_size=16)\n",
    "test_loader  = DataLoader(NERDataset(X_test_pad, y_test_pad), batch_size=16)"
   ]
  },
  {
   "cell_type": "code",
   "execution_count": 13,
   "id": "a9b09be3",
   "metadata": {},
   "outputs": [],
   "source": [
    "\n",
    "class CNN_NER(nn.Module): #Create CNN Class#\n",
    "    def __init__(self, vocab_size, embed_dim, num_classes, embedding_matrix):\n",
    "        super(CNN_NER, self).__init__()\n",
    "        self.embedding = nn.Embedding.from_pretrained(embedding_matrix, freeze=True)\n",
    "        self.conv1 = nn.Conv1d(embed_dim, 128, kernel_size=3, padding=1)\n",
    "        self.relu = nn.ReLU()\n",
    "        self.dropout = nn.Dropout(0.3)\n",
    "        self.classifier = nn.Linear(128, num_classes)\n",
    "\n",
    "    def forward(self, x):\n",
    "        x = self.embedding(x)\n",
    "        x = x.permute(0, 2, 1)\n",
    "        x = self.conv1(x)\n",
    "        x = self.relu(x)\n",
    "        x = x.permute(0, 2, 1)\n",
    "        x = self.dropout(x)\n",
    "        return self.classifier(x)\n",
    "\n",
    "model = CNN_NER(len(word2idx), embed_dim, len(tag2idx), embedding_matrix).to(device)\n",
    "criterion = nn.CrossEntropyLoss(weight=weights_tensor.to(device), ignore_index=tag2idx[\"O\"])\n",
    "optimizer = torch.optim.Adam(model.parameters(), lr=1e-3)\n"
   ]
  },
  {
   "cell_type": "code",
   "execution_count": 14,
   "id": "dc3b6177",
   "metadata": {},
   "outputs": [],
   "source": [
    "def extract_entities(label_seq):\n",
    "    \"\"\"Extract entity spans (start, end, type) from a label sequence.\"\"\"\n",
    "    entities = set()\n",
    "    start, entity_type = None, None\n",
    "    for i, label in enumerate(label_seq):\n",
    "        if label.startswith(\"B-\"):\n",
    "            if start is not None:\n",
    "                entities.add((start, i - 1, entity_type))\n",
    "            start = i\n",
    "            entity_type = label[2:]\n",
    "        elif label.startswith(\"I-\") and entity_type == label[2:]:\n",
    "            continue\n",
    "        else:\n",
    "            if start is not None:\n",
    "                entities.add((start, i - 1, entity_type))\n",
    "                start, entity_type = None, None\n",
    "    if start is not None:\n",
    "        entities.add((start, len(label_seq) - 1, entity_type))\n",
    "    return entities\n"
   ]
  },
  {
   "cell_type": "code",
   "execution_count": 15,
   "id": "ce4d4bd2",
   "metadata": {},
   "outputs": [
    {
     "name": "stderr",
     "output_type": "stream",
     "text": [
      "Epoch 1/20: 100%|██████████| 87/87 [00:02<00:00, 35.64it/s]\n"
     ]
    },
    {
     "name": "stdout",
     "output_type": "stream",
     "text": [
      "\n",
      "Epoch 1: Training Loss = 122.7909\n",
      "Epoch 1: Validation Loss = 0.8522\n",
      "Epoch 1: Validation F1   = 0.0611\n",
      "Validation F1 improved.\n"
     ]
    },
    {
     "name": "stderr",
     "output_type": "stream",
     "text": [
      "Epoch 2/20: 100%|██████████| 87/87 [00:02<00:00, 37.41it/s]\n"
     ]
    },
    {
     "name": "stdout",
     "output_type": "stream",
     "text": [
      "\n",
      "Epoch 2: Training Loss = 71.4844\n",
      "Epoch 2: Validation Loss = 0.7274\n",
      "Epoch 2: Validation F1   = 0.0551\n",
      "No improvement. Patience: 1/3\n"
     ]
    },
    {
     "name": "stderr",
     "output_type": "stream",
     "text": [
      "Epoch 3/20: 100%|██████████| 87/87 [00:02<00:00, 36.04it/s]\n"
     ]
    },
    {
     "name": "stdout",
     "output_type": "stream",
     "text": [
      "\n",
      "Epoch 3: Training Loss = 63.6315\n",
      "Epoch 3: Validation Loss = 0.6802\n",
      "Epoch 3: Validation F1   = 0.0505\n",
      "No improvement. Patience: 2/3\n"
     ]
    },
    {
     "name": "stderr",
     "output_type": "stream",
     "text": [
      "Epoch 4/20: 100%|██████████| 87/87 [00:02<00:00, 37.03it/s]\n"
     ]
    },
    {
     "name": "stdout",
     "output_type": "stream",
     "text": [
      "\n",
      "Epoch 4: Training Loss = 59.4414\n",
      "Epoch 4: Validation Loss = 0.6574\n",
      "Epoch 4: Validation F1   = 0.0493\n",
      "No improvement. Patience: 3/3\n",
      "Early stopping triggered.\n",
      "\n",
      "📋 Best ConLL-style Classification Report:\n",
      "              precision    recall  f1-score   support\n",
      "\n",
      "         EDU     0.0022    0.1333    0.0043        15\n",
      "         HSK     0.0832    0.2467    0.1244      1054\n",
      "         JOB     0.0358    0.2834    0.0635       247\n",
      "         LOC     0.0141    0.1130    0.0250       301\n",
      "         ORG     0.0138    0.1622    0.0254       296\n",
      "         YOE     0.0516    0.4107    0.0916        56\n",
      "\n",
      "   micro avg     0.0354    0.2219    0.0611      1969\n",
      "   macro avg     0.0334    0.2249    0.0557      1969\n",
      "weighted avg     0.0547    0.2219    0.0849      1969\n",
      "\n"
     ]
    }
   ],
   "source": [
    "from seqeval.metrics import classification_report, f1_score\n",
    "\n",
    "best_val_f1 = 0\n",
    "best_report = \"\"\n",
    "patience = 3\n",
    "patience_counter = 0\n",
    "\n",
    "for epoch in range(20):\n",
    "    model.train()\n",
    "    total_loss = 0\n",
    "    for X_batch, y_batch in tqdm(train_loader, desc=f\"Epoch {epoch+1}/20\"):\n",
    "        X_batch, y_batch = X_batch.to(device), y_batch.to(device)\n",
    "        optimizer.zero_grad()\n",
    "        logits = model(X_batch)\n",
    "        loss = criterion(logits.view(-1, logits.shape[-1]), y_batch.view(-1))\n",
    "        loss.backward()\n",
    "        optimizer.step()\n",
    "        total_loss += loss.item()\n",
    "    print(f\"\\nEpoch {epoch+1}: Training Loss = {total_loss:.4f}\")\n",
    "\n",
    "    # === Validation ===\n",
    "    model.eval()\n",
    "    val_loss = 0\n",
    "    all_preds, all_trues = [], []\n",
    "\n",
    "    with torch.no_grad():\n",
    "        for X_val_batch, y_val_batch in val_loader:\n",
    "            X_val_batch = X_val_batch.to(device)\n",
    "            y_val_batch = y_val_batch.to(device)\n",
    "            val_logits = model(X_val_batch)\n",
    "            loss = criterion(val_logits.view(-1, logits.shape[-1]), y_val_batch.view(-1))\n",
    "            val_loss += loss.item()\n",
    "\n",
    "            pred_labels = torch.argmax(val_logits, dim=-1).cpu().tolist()\n",
    "            true_labels = y_val_batch.cpu().tolist()\n",
    "\n",
    "            for preds, trues in zip(pred_labels, true_labels):\n",
    "                length = sum([1 for t in trues if t != tag2idx[\"O\"]])\n",
    "                pred_tags = [idx2tag[p] for p in preds[:length]]\n",
    "                true_tags = [idx2tag[t] for t in trues[:length]]\n",
    "                all_preds.append(pred_tags)\n",
    "                all_trues.append(true_tags)\n",
    "\n",
    "    val_loss /= len(val_loader)\n",
    "    val_f1 = f1_score(all_trues, all_preds)\n",
    "\n",
    "    print(f\"Epoch {epoch+1}: Validation Loss = {val_loss:.4f}\")\n",
    "    print(f\"Epoch {epoch+1}: Validation F1   = {val_f1:.4f}\")\n",
    "\n",
    "    # === Early Stopping Check ===\n",
    "    if val_f1 > best_val_f1:\n",
    "        best_val_f1 = val_f1\n",
    "        patience_counter = 0\n",
    "        best_report = classification_report(all_trues, all_preds, digits=4)\n",
    "        print(\"Validation F1 improved.\")\n",
    "    else:\n",
    "        patience_counter += 1\n",
    "        print(f\"No improvement. Patience: {patience_counter}/{patience}\")\n",
    "        if patience_counter >= patience:\n",
    "            print(\"Early stopping triggered.\")\n",
    "            break\n",
    "\n",
    "# === Final Report ===\n",
    "print(\"\\n📋 Best ConLL-style Classification Report:\")\n",
    "print(best_report)\n"
   ]
  },
  {
   "cell_type": "code",
   "execution_count": 16,
   "id": "5c5c458d",
   "metadata": {},
   "outputs": [
    {
     "name": "stdout",
     "output_type": "stream",
     "text": [
      "\n",
      "Final Evaluation on Test Set\n",
      "\n",
      "🧾 SemEval Evaluation on Test Set:\n",
      "              precision    recall  f1-score   support\n",
      "\n",
      "         EDU     0.0007    0.0625    0.0013        16\n",
      "         HSK     0.0494    0.2028    0.0794      1598\n",
      "         JOB     0.0229    0.2009    0.0412       448\n",
      "         LOC     0.0381    0.2117    0.0646       444\n",
      "         ORG     0.0196    0.2461    0.0364       512\n",
      "         YOE     0.0222    0.2824    0.0412        85\n",
      "\n",
      "   micro avg     0.0300    0.2124    0.0526      3103\n",
      "   macro avg     0.0255    0.2011    0.0440      3103\n",
      "weighted avg     0.0381    0.2124    0.0632      3103\n",
      "\n",
      "🏆 Overall Entity-Level F1 Score: 0.0526\n"
     ]
    }
   ],
   "source": [
    "\n",
    "print(\"\\nFinal Evaluation on Test Set\")\n",
    "\n",
    "model.eval()\n",
    "all_preds_test, all_trues_test = [], []\n",
    "\n",
    "with torch.no_grad():\n",
    "    for X_batch, y_batch in test_loader:\n",
    "        X_batch = X_batch.to(device)\n",
    "        y_batch = y_batch.to(device)\n",
    "        logits = model(X_batch)\n",
    "        pred_labels = torch.argmax(logits, dim=-1).cpu().tolist()\n",
    "        true_labels = y_batch.cpu().tolist()\n",
    "\n",
    "        for preds, trues in zip(pred_labels, true_labels):\n",
    "            length = sum([1 for t in trues if t != tag2idx[\"O\"]])\n",
    "            pred_tags = [idx2tag[p] for p in preds[:length]]\n",
    "            true_tags = [idx2tag[t] for t in trues[:length]]\n",
    "            all_preds_test.append(pred_tags)\n",
    "            all_trues_test.append(true_tags)\n",
    "\n",
    "# === SemEval-Style Evaluation ===\n",
    "print(\"\\n🧾 SemEval Evaluation on Test Set:\")\n",
    "print(classification_report(all_trues_test, all_preds_test, digits=4))\n",
    "\n",
    "f1 = f1_score(all_trues_test, all_preds_test)\n",
    "print(f\"🏆 Overall Entity-Level F1 Score: {f1:.4f}\")\n"
   ]
  },
  {
   "cell_type": "code",
   "execution_count": 34,
   "id": "215d656f",
   "metadata": {},
   "outputs": [
    {
     "name": "stdout",
     "output_type": "stream",
     "text": [
      "Note: you may need to restart the kernel to use updated packages.\n"
     ]
    },
    {
     "name": "stderr",
     "output_type": "stream",
     "text": [
      "ERROR: Could not find a version that satisfies the requirement ner-eval (from versions: none)\n",
      "ERROR: No matching distribution found for ner-eval\n"
     ]
    }
   ],
   "source": [
    "pip install ner-eval"
   ]
  },
  {
   "cell_type": "code",
   "execution_count": null,
   "id": "5f2f2f2e",
   "metadata": {},
   "outputs": [],
   "source": [
    "\n",
    "def bio_to_spans(tags):\n",
    "    spans = []\n",
    "    start = None\n",
    "    label = None\n",
    "    for i, tag in enumerate(tags):\n",
    "        if tag.startswith(\"B-\"):\n",
    "            if start is not None:\n",
    "                spans.append((start, i-1, label))\n",
    "            start = i\n",
    "            label = tag[2:]\n",
    "        elif tag.startswith(\"I-\") and label == tag[2:]:\n",
    "            continue\n",
    "        else:\n",
    "            if start is not None:\n",
    "                spans.append((start, i-1, label))\n",
    "                start = None\n",
    "                label = None\n",
    "    if start is not None:\n",
    "        spans.append((start, len(tags)-1, label))\n",
    "    return spans\n"
   ]
  },
  {
   "cell_type": "code",
   "execution_count": 24,
   "id": "02de1265",
   "metadata": {},
   "outputs": [],
   "source": [
    "true_types = []\n",
    "pred_types = []\n",
    "\n",
    "for gold_seq, pred_seq in zip(all_trues_test, all_preds_test):\n",
    "    gold_spans = bio_to_spans(gold_seq)\n",
    "    pred_spans = bio_to_spans(pred_seq)\n",
    "    matched_gold = set()\n",
    "\n",
    "    for pred_span in pred_spans:\n",
    "        if pred_span in gold_spans:\n",
    "            true_types.append(pred_span[2])\n",
    "            pred_types.append(pred_span[2])\n",
    "            matched_gold.add(pred_span)\n",
    "        else:\n",
    "            found = False\n",
    "            for gold_span in gold_spans:\n",
    "                if gold_span[2] == pred_span[2] and max(gold_span[0], pred_span[0]) <= min(gold_span[1], pred_span[1]):\n",
    "                    true_types.append(gold_span[2])\n",
    "                    pred_types.append(pred_span[2])\n",
    "                    matched_gold.add(gold_span)\n",
    "                    found = True\n",
    "                    break\n",
    "            if not found:\n",
    "                true_types.append(\"O\")\n",
    "                pred_types.append(pred_span[2])\n",
    "\n",
    "    for gold_span in gold_spans:\n",
    "        if gold_span not in matched_gold:\n",
    "            true_types.append(gold_span[2])\n",
    "            pred_types.append(\"O\")\n"
   ]
  },
  {
   "cell_type": "code",
   "execution_count": 32,
   "id": "00a1ff6f",
   "metadata": {},
   "outputs": [],
   "source": [
    "def show_good_and_bad_examples(pred_seqs, true_seqs, token_seqs, num_tokens_context=2):\n",
    "    \"\"\"\n",
    "    Show one good and one bad prediction with context around entity span.\n",
    "    Good = all spans correct.\n",
    "    Bad = missed at least one gold span entirely.\n",
    "    \"\"\"\n",
    "    good_found = False\n",
    "    bad_found = False\n",
    "\n",
    "    for tokens, preds, trues in zip(token_seqs, pred_seqs, true_seqs):\n",
    "        pred_spans = set(bio_to_spans(preds))\n",
    "        true_spans = set(bio_to_spans(trues))\n",
    "\n",
    "        # ✅ GOOD example: all spans are correct and none missing or spurious\n",
    "        if pred_spans == true_spans and not good_found:\n",
    "            for span in sorted(true_spans):\n",
    "                start, end, label = span\n",
    "                center = start\n",
    "                context_start = max(center - num_tokens_context, 0)\n",
    "                context_end = min(center + num_tokens_context + 1, len(tokens))\n",
    "\n",
    "                print(\"\\n🟢 GOOD EXAMPLE (All Entities Correct in Context):\")\n",
    "                print(\"Context:           \", \" \".join(tokens[context_start:context_end]))\n",
    "                print(\"Predicted Labels:  \", preds[context_start:context_end])\n",
    "                print(\"True Labels:       \", trues[context_start:context_end])\n",
    "                good_found = True\n",
    "                break  # show only one\n",
    "\n",
    "        # ❌ BAD example: at least one gold span is completely missed\n",
    "        missed = true_spans - pred_spans\n",
    "        if missed and not bad_found:\n",
    "            for span in sorted(missed):\n",
    "                start, end, label = span\n",
    "                center = start\n",
    "                context_start = max(center - num_tokens_context, 0)\n",
    "                context_end = min(center + num_tokens_context + 1, len(tokens))\n",
    "\n",
    "                print(\"\\n🔴 BAD EXAMPLE (Missed Entity):\")\n",
    "                print(\"Context:           \", \" \".join(tokens[context_start:context_end]))\n",
    "                print(\"Predicted Labels:  \", preds[context_start:context_end])\n",
    "                print(\"True Labels:       \", trues[context_start:context_end])\n",
    "                bad_found = True\n",
    "                break\n",
    "\n",
    "        if good_found and bad_found:\n",
    "            break\n"
   ]
  },
  {
   "cell_type": "code",
   "execution_count": 33,
   "id": "9bfd0082",
   "metadata": {},
   "outputs": [
    {
     "name": "stdout",
     "output_type": "stream",
     "text": [
      "\n",
      "🔴 BAD EXAMPLE (Missed Entity):\n",
      "Context:            world class voice - forward\n",
      "Predicted Labels:   ['I-ORG', 'I-ORG', 'B-HSK', 'I-HSK', 'I-JOB']\n",
      "True Labels:        ['O', 'O', 'B-HSK', 'I-HSK', 'I-HSK']\n"
     ]
    }
   ],
   "source": [
    "all_tokens_test = []\n",
    "for i in range(X_test_pad.size(0)):\n",
    "    token_ids = X_test_pad[i].tolist()\n",
    "    length = len(all_trues_test[i])\n",
    "    tokens = [idx2word.get(idx, \"UNK\") for idx in token_ids[:length]]\n",
    "    all_tokens_test.append(tokens)\n",
    "\n",
    "show_good_and_bad_examples(all_preds_test, all_trues_test, all_tokens_test,2)"
   ]
  },
  {
   "cell_type": "code",
   "execution_count": 21,
   "id": "911269d2",
   "metadata": {},
   "outputs": [
    {
     "data": {
      "text/plain": [
       "<Figure size 1000x800 with 0 Axes>"
      ]
     },
     "metadata": {},
     "output_type": "display_data"
    },
    {
     "data": {
      "image/png": "[encoded data removed]",
      "text/plain": [
       "<Figure size 640x480 with 2 Axes>"
      ]
     },
     "metadata": {},
     "output_type": "display_data"
    }
   ],
   "source": [
    "labels = sorted(set(true_types + pred_types))\n",
    "\n",
    "cm = confusion_matrix(true_types, pred_types, labels=labels)\n",
    "\n",
    "plt.figure(figsize=(10, 8))\n",
    "disp = ConfusionMatrixDisplay(confusion_matrix=cm, display_labels=labels)\n",
    "disp.plot(xticks_rotation=45, cmap=\"Blues\")\n",
    "plt.title(\"Entity-Level Confusion Matrix\")\n",
    "plt.tight_layout()\n",
    "plt.show()\n"
   ]
  },
  {
   "cell_type": "code",
   "execution_count": 22,
   "id": "7776a3d7",
   "metadata": {},
   "outputs": [],
   "source": [
    "# Save the entire model (architecture + weights)\n",
    "torch.save(model.state_dict(), \"cnn_ner_model.pt\")\n"
   ]
  },
  {
   "cell_type": "code",
   "execution_count": 23,
   "id": "c32ba28b",
   "metadata": {},
   "outputs": [],
   "source": [
    "# Save word2idx and tag2idx using pickle\n",
    "with open(\"ner_vocab.pkl\", \"wb\") as f:\n",
    "    pickle.dump({\n",
    "        \"word2idx\": word2idx,\n",
    "        \"tag2idx\": tag2idx,\n",
    "        \"idx2tag\": idx2tag\n",
    "    }, f)\n",
    "\n",
    "# Save embedding matrix separately using torch\n",
    "torch.save(embedding_matrix, \"embedding_matrix.pt\")\n"
   ]
  },
  {
   "cell_type": "code",
   "execution_count": null,
   "id": "94f96db9",
   "metadata": {},
   "outputs": [],
   "source": []
  }
 ],
 "metadata": {
  "kernelspec": {
   "display_name": ".venv",
   "language": "python",
   "name": "python3"
  },
  "language_info": {
   "codemirror_mode": {
    "name": "ipython",
    "version": 3
   },
   "file_extension": ".py",
   "mimetype": "text/x-python",
   "name": "python",
   "nbconvert_exporter": "python",
   "pygments_lexer": "ipython3",
   "version": "3.12.4"
  }
 },
 "nbformat": 4,
 "nbformat_minor": 5
}
